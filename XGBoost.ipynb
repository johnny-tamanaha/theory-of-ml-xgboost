{
  "nbformat": 4,
  "nbformat_minor": 0,
  "metadata": {
    "colab": {
      "name": "XGBoost.ipynb",
      "provenance": [],
      "collapsed_sections": []
    },
    "kernelspec": {
      "name": "python3",
      "display_name": "Python 3"
    },
    "language_info": {
      "name": "python"
    }
  },
  "cells": [
    {
      "cell_type": "code",
      "source": [
        "pip install scikit-learn"
      ],
      "metadata": {
        "colab": {
          "base_uri": "https://localhost:8080/"
        },
        "id": "vY05tkx9lOM2",
        "outputId": "180b3e46-e2b3-429b-af40-4080d40d39a5"
      },
      "execution_count": null,
      "outputs": [
        {
          "output_type": "stream",
          "name": "stdout",
          "text": [
            "Requirement already satisfied: scikit-learn in /usr/local/lib/python3.7/dist-packages (1.0.2)\n",
            "Requirement already satisfied: numpy>=1.14.6 in /usr/local/lib/python3.7/dist-packages (from scikit-learn) (1.21.6)\n",
            "Requirement already satisfied: threadpoolctl>=2.0.0 in /usr/local/lib/python3.7/dist-packages (from scikit-learn) (3.1.0)\n",
            "Requirement already satisfied: scipy>=1.1.0 in /usr/local/lib/python3.7/dist-packages (from scikit-learn) (1.4.1)\n",
            "Requirement already satisfied: joblib>=0.11 in /usr/local/lib/python3.7/dist-packages (from scikit-learn) (1.1.0)\n"
          ]
        }
      ]
    },
    {
      "cell_type": "code",
      "source": [
        "pip install xgboost"
      ],
      "metadata": {
        "colab": {
          "base_uri": "https://localhost:8080/"
        },
        "id": "3ofWPPQklfAl",
        "outputId": "d21a2e9f-7b2f-414b-90b8-62c03adac9e1"
      },
      "execution_count": null,
      "outputs": [
        {
          "output_type": "stream",
          "name": "stdout",
          "text": [
            "Requirement already satisfied: xgboost in /usr/local/lib/python3.7/dist-packages (0.90)\n",
            "Requirement already satisfied: numpy in /usr/local/lib/python3.7/dist-packages (from xgboost) (1.21.6)\n",
            "Requirement already satisfied: scipy in /usr/local/lib/python3.7/dist-packages (from xgboost) (1.4.1)\n"
          ]
        }
      ]
    },
    {
      "cell_type": "markdown",
      "source": [
        "https://github.com/dmlc/xgboost/tree/master/demo/guide-python"
      ],
      "metadata": {
        "id": "pDLPdevHndnd"
      }
    },
    {
      "cell_type": "code",
      "source": [
        "import numpy as np\n",
        "import xgboost as xgb\n",
        "import sklearn\n",
        "import pandas as pd\n",
        "import matplotlib.pyplot as plt  \n",
        "\n",
        "import time, pickle, os, random\n",
        "\n",
        "from sklearn.tree import DecisionTreeClassifier, DecisionTreeRegressor\n",
        "from sklearn.ensemble import AdaBoostClassifier, AdaBoostRegressor GradientBoostingClassifier, GradientBoostingRegressor\n",
        "from sklearn.model_selection import train_test_split\n",
        "from sklearn.metrics import accuracy_score, mean_squared_error\n",
        "\n",
        "from numpy import loadtxt\n",
        "from pandas.core.arrays.datetimes import tz_to_dtype\n",
        "from xgboost import XGBClassifier\n",
        "from sklearn import preprocessing\n",
        "\n",
        "from collections import defaultdict\n",
        "from operator import itemgetter\n",
        "\n",
        "# connect to google drive\n",
        "from google.colab import drive \n",
        "drive.mount('/content/gdrive')"
      ],
      "metadata": {
        "id": "ZZz7H2syvm4X"
      },
      "execution_count": null,
      "outputs": []
    },
    {
      "cell_type": "code",
      "source": [
        "def xgboost_product(n_train):\n",
        "  '''Fit XGBoost on a subset of the product dataset. \n",
        "  Arguments: \n",
        "    1. n_train (int) -> size of the training subset.\n",
        "  Returns: \n",
        "    1. train_time (float) -> time to fit XGBoost. \n",
        "    2. accuracy (float) -> test accuracy on remaining data. \n",
        "    3. error_rate (float) -> complement of accuracy.'''\n",
        "  # load data \n",
        "  dpath = '/content/gdrive/MyDrive' \n",
        "\n",
        "  data = np.loadtxt(dpath+'/otto-group-product-classification-challenge/train.csv', delimiter=',', skiprows=1, usecols=np.arange(94))\n",
        "\n",
        "  label_str = pd.read_csv(dpath+'/otto-group-product-classification-challenge/train.csv', usecols=['target'])['target'].to_list()\n",
        "  data=np.c_[data, label_str]\n",
        "  n_test=data.shape[0]-n_train\n",
        "  #Random sample 5000 values for testing\n",
        "  random.seed(42)\n",
        "  ind=random.sample(range(61878), n_test)\n",
        "\n",
        "  x_test=data[ind,:]\n",
        "  x_train=np.delete(data,ind,0)\n",
        "\n",
        "  y_test=x_test[:,-1]\n",
        "  y_train=x_train[:,-1]\n",
        "  x_train=np.delete(x_train,0,1)\n",
        "  x_test=np.delete(x_test,0,1)\n",
        "  x_train=np.delete(x_train,-1,1)\n",
        "  x_test=np.delete(x_test,-1,1)\n",
        "  y_train=[w.replace('Class_', '') for w in y_train]\n",
        "  y_train=[int(x) for x in y_train]\n",
        "  y_test=[w.replace('Class_', '') for w in y_test]\n",
        "  y_test=[int(x) for x in y_test]\n",
        "\n",
        "  # fit model no training data\n",
        "  model = XGBClassifier(max_depth=6,n_estimators=10, verbose=2)\n",
        "  eval_set = [(x_train, y_train), (x_test, y_test)]\n",
        "\n",
        "  start = time.time() \n",
        "  model.fit(x_train, y_train)#, eval_metric=[\"merror\", \"mlogloss\"], eval_set=eval_set, verbose=False)\n",
        "  train_time = time.time() - start \n",
        "\n",
        "  # make predictions for test data\n",
        "  y_pred = model.predict(x_test)\n",
        "  pred = [round(value) for value in y_pred]\n",
        "\n",
        "  # evaluate predictions\n",
        "  accuracy = accuracy_score(y_test, pred)\n",
        "  error_rate=1-accuracy\n",
        "\n",
        "  return train_time, accuracy, error_rate"
      ],
      "metadata": {
        "id": "JzzN0Tagpgyt"
      },
      "execution_count": null,
      "outputs": []
    },
    {
      "cell_type": "code",
      "source": [
        "# varying train set sizes\n",
        "ns = [10000, 20000, 40000, 60000] \n",
        "\n",
        "train_times = [] \n",
        "accuracies = [] \n",
        "error_rates = [] \n",
        "\n",
        "# metrics for XGBoost\n",
        "for n in ns: \n",
        "  train_time, accuracy, error_rate = xgboost_product(n)\n",
        "  train_times.append(train_time) \n",
        "  accuracies.append(accuracy) \n",
        "  error_rates.append(error_rate) \n",
        "\n",
        "print(train_times) \n",
        "print(accuracies) \n",
        "print(error_rates)\n",
        "\n",
        "tt_xgb = train_times \n",
        "acc_xgb = accuracies \n",
        "er_xgb = error_rates "
      ],
      "metadata": {
        "colab": {
          "base_uri": "https://localhost:8080/"
        },
        "id": "kgn4PZasrCOq",
        "outputId": "15b42d67-1ed9-41c6-fe2d-c20bb3a8120c"
      },
      "execution_count": null,
      "outputs": [
        {
          "output_type": "stream",
          "name": "stdout",
          "text": [
            "[3.830737352371216, 7.669978618621826, 15.55947756767273, 23.458369970321655]\n",
            "[0.7419522726396546, 0.7529968002292373, 0.7548679038303319, 0.7641107561235356]\n",
            "[0.2580477273603454, 0.24700319977076268, 0.24513209616966813, 0.23588924387646437]\n"
          ]
        }
      ]
    },
    {
      "cell_type": "code",
      "source": [
        "def adaboost_product(n_train):\n",
        "  '''Fit Adaboost on a subset of the product dataset. \n",
        "  Arguments: \n",
        "    1. n_train (int) -> size of the training subset.\n",
        "  Returns: \n",
        "    1. train_time (float) -> time to fit Adaboost. \n",
        "    2. accuracy (float) -> test accuracy on remaining data. \n",
        "    3. error_rate (float) -> complement of accuracy.'''\n",
        "\n",
        "  # load data \n",
        "  dpath = '/content/gdrive/MyDrive' \n",
        "\n",
        "  data = np.loadtxt(dpath+'/otto-group-product-classification-challenge/train.csv', delimiter=',', skiprows=1, usecols=np.arange(94))\n",
        "\n",
        "  label_str = pd.read_csv(dpath+'/otto-group-product-classification-challenge/train.csv', usecols=['target'])['target'].to_list()\n",
        "  data=np.c_[data, label_str]\n",
        "  n_test=data.shape[0]-n_train\n",
        "  #Random sample 5000 values for testing\n",
        "  random.seed(42)\n",
        "  ind=random.sample(range(61878), n_test)\n",
        "\n",
        "  x_test=data[ind,:]\n",
        "  x_train=np.delete(data,ind,0)\n",
        "\n",
        "  y_test=x_test[:,-1]\n",
        "  y_train=x_train[:,-1]\n",
        "  x_train=np.delete(x_train,0,1)\n",
        "  x_test=np.delete(x_test,0,1)\n",
        "  x_train=np.delete(x_train,-1,1)\n",
        "  x_test=np.delete(x_test,-1,1)\n",
        "  y_train=[w.replace('Class_', '') for w in y_train]\n",
        "  y_train=[int(x) for x in y_train]\n",
        "  y_test=[w.replace('Class_', '') for w in y_test]\n",
        "  y_test=[int(x) for x in y_test]\n",
        "\n",
        "  # fit model no training data\n",
        "  tmp = time.time()\n",
        "  dtree=DecisionTreeClassifier()\n",
        "  model=AdaBoostClassifier(n_estimators=10,base_estimator=dtree)\n",
        "\n",
        "  start = time.time() \n",
        "  model.fit(x_train, y_train)#, eval_metric=[\"merror\", \"mlogloss\"], eval_set=eval_set, verbose=False)\n",
        "  train_time = time.time() - start \n",
        "\n",
        "  # make predictions for test data\n",
        "  y_pred = model.predict(x_test)\n",
        "  pred = [round(value) for value in y_pred]\n",
        "\n",
        "  # evaluate predictions\n",
        "  accuracy = accuracy_score(y_test, pred)\n",
        "  error_rate=1-accuracy\n",
        "\n",
        "  return train_time, accuracy, error_rate"
      ],
      "metadata": {
        "id": "JM3-GHjabv_Q"
      },
      "execution_count": null,
      "outputs": []
    },
    {
      "cell_type": "code",
      "source": [
        "# varying train set sizes \n",
        "ns = [10000, 20000, 40000, 60000] \n",
        "\n",
        "train_times = [] \n",
        "accuracies = [] \n",
        "error_rates = [] \n",
        "\n",
        "# metrics for Adaboost \n",
        "for n in ns: \n",
        "  train_time, accuracy, error_rate = adaboost_product(n)\n",
        "  train_times.append(train_time) \n",
        "  accuracies.append(accuracy) \n",
        "  error_rates.append(error_rate) \n",
        "\n",
        "print(train_times) \n",
        "print(accuracies) \n",
        "print(error_rates)\n",
        "\n",
        "tt_ada = train_times \n",
        "acc_ada = accuracies \n",
        "er_ada = error_rates "
      ],
      "metadata": {
        "colab": {
          "base_uri": "https://localhost:8080/"
        },
        "id": "cmDEQiF4c4AL",
        "outputId": "2d852674-8191-44e7-9cbc-78e07670b056"
      },
      "execution_count": null,
      "outputs": [
        {
          "output_type": "stream",
          "name": "stdout",
          "text": [
            "[0.9915735721588135, 2.072284460067749, 4.375605583190918, 6.529709577560425]\n",
            "[0.6584486680288368, 0.6847748221022971, 0.7082000182832069, 0.7097976570820022]\n",
            "[0.34155133197116316, 0.3152251778977029, 0.2917999817167931, 0.29020234291799785]\n"
          ]
        }
      ]
    },
    {
      "cell_type": "code",
      "source": [
        "def gradboost_product(n_train):\n",
        "  '''Fit Gradient Tree Boosting on a subset of the product dataset. \n",
        "  Arguments: \n",
        "    1. n_train (int) -> size of the training subset.\n",
        "  Returns: \n",
        "    1. train_time (float) -> time to fit gradient tree boosting. \n",
        "    2. accuracy (float) -> test accuracy on remaining data. \n",
        "    3. error_rate (float) -> complement of accuracy.'''\n",
        "  # load data \n",
        "  dpath = '/content/gdrive/MyDrive' \n",
        "\n",
        "  data = np.loadtxt(dpath+'/otto-group-product-classification-challenge/train.csv', delimiter=',', skiprows=1, usecols=np.arange(94))\n",
        "\n",
        "  label_str = pd.read_csv(dpath+'/otto-group-product-classification-challenge/train.csv', usecols=['target'])['target'].to_list()\n",
        "  data=np.c_[data, label_str]\n",
        "  n_test=data.shape[0]-n_train\n",
        "  #Random sample 5000 values for testing\n",
        "  random.seed(42)\n",
        "  ind=random.sample(range(61878), n_test)\n",
        "\n",
        "  x_test=data[ind,:]\n",
        "  x_train=np.delete(data,ind,0)\n",
        "\n",
        "  y_test=x_test[:,-1]\n",
        "  y_train=x_train[:,-1]\n",
        "  x_train=np.delete(x_train,0,1)\n",
        "  x_test=np.delete(x_test,0,1)\n",
        "  x_train=np.delete(x_train,-1,1)\n",
        "  x_test=np.delete(x_test,-1,1)\n",
        "  y_train=[w.replace('Class_', '') for w in y_train]\n",
        "  y_train=[int(x) for x in y_train]\n",
        "  y_test=[w.replace('Class_', '') for w in y_test]\n",
        "  y_test=[int(x) for x in y_test]\n",
        "\n",
        "  # fit model no training data\n",
        "  tmp = time.time()\n",
        "  model = GradientBoostingClassifier(n_estimators=10, max_depth=6, verbose=0) \n",
        "\n",
        "  start = time.time() \n",
        "  model.fit(x_train, y_train)#, eval_metric=[\"merror\", \"mlogloss\"], eval_set=eval_set, verbose=False)\n",
        "  train_time = time.time() - start \n",
        "\n",
        "  # make predictions for test data\n",
        "  y_pred = model.predict(x_test)\n",
        "  pred = [round(value) for value in y_pred]\n",
        "\n",
        "  # evaluate predictions\n",
        "  accuracy = accuracy_score(y_test, pred)\n",
        "  error_rate=1-accuracy\n",
        "\n",
        "  return train_time, accuracy, error_rate"
      ],
      "metadata": {
        "id": "v4iruK25dp0J"
      },
      "execution_count": null,
      "outputs": []
    },
    {
      "cell_type": "code",
      "source": [
        "# varying train set sizes \n",
        "ns = [10000, 20000, 40000, 60000] \n",
        "\n",
        "train_times = [] \n",
        "accuracies = [] \n",
        "error_rates = [] \n",
        "\n",
        "# metrics for gradient tree boosting \n",
        "for n in ns: \n",
        "  train_time, accuracy, error_rate = gradboost_product(n)\n",
        "  train_times.append(train_time) \n",
        "  accuracies.append(accuracy) \n",
        "  error_rates.append(error_rate) \n",
        "\n",
        "print(train_times) \n",
        "print(accuracies) \n",
        "print(error_rates)\n",
        "\n",
        "tt_gb = train_times \n",
        "acc_gb = accuracies \n",
        "er_gb = error_rates \n",
        "\n",
        "fig, axes = plt.subplots(2) \n",
        "\n",
        "axes[0].plot(ns, train_times) \n",
        "axes[1].plot(ns, accuracies)"
      ],
      "metadata": {
        "colab": {
          "base_uri": "https://localhost:8080/",
          "height": 334
        },
        "id": "LDFAUOXxeKhR",
        "outputId": "c4716e26-3320-41f7-b18c-6a1c9bd5144c"
      },
      "execution_count": null,
      "outputs": [
        {
          "output_type": "stream",
          "name": "stdout",
          "text": [
            "[7.297321319580078, 14.768163442611694, 36.93318796157837, 54.943281173706055]\n",
            "[0.7347237750106018, 0.7443048856201346, 0.7500685620257793, 0.7582534611288605]\n",
            "[0.2652762249893982, 0.25569511437986536, 0.24993143797422068, 0.2417465388711395]\n"
          ]
        },
        {
          "output_type": "execute_result",
          "data": {
            "text/plain": [
              "[<matplotlib.lines.Line2D at 0x7f9aed6fe810>]"
            ]
          },
          "metadata": {},
          "execution_count": 41
        },
        {
          "output_type": "display_data",
          "data": {
            "text/plain": [
              "<Figure size 432x288 with 2 Axes>"
            ],
            "image/png": "[encoded data removed]"
          },
          "metadata": {
            "needs_background": "light"
          }
        }
      ]
    },
    {
      "cell_type": "code",
      "source": [
        "# train set size vs. train time \n",
        "plt.plot(ns, tt_xgb, color='blue', label='XGBoost') \n",
        "plt.plot(ns, tt_ada, color='red', label='AdaBoost') \n",
        "plt.plot(ns, tt_gb, color='yellow', label='Gradient Boosting')\n",
        "plt.legend() \n",
        "plt.title('Number of Training Samples vs. Train Time') \n",
        "plt.xlabel('Training Samples') \n",
        "plt.ylabel('Train Time') \n",
        "plt.show() "
      ],
      "metadata": {
        "colab": {
          "base_uri": "https://localhost:8080/",
          "height": 295
        },
        "id": "Pl4aH2uZfAf7",
        "outputId": "023d9cb5-ba15-4a5b-ca3f-099f04a95a02"
      },
      "execution_count": null,
      "outputs": [
        {
          "output_type": "display_data",
          "data": {
            "text/plain": [
              "<Figure size 432x288 with 1 Axes>"
            ],
            "image/png": "[encoded data removed]"
          },
          "metadata": {
            "needs_background": "light"
          }
        }
      ]
    },
    {
      "cell_type": "code",
      "source": [
        "# train set size vs. accuracy \n",
        "plt.plot(ns, acc_xgb, color='blue', label='XGBoost') \n",
        "plt.plot(ns, acc_ada, color='red', label='AdaBoost') \n",
        "plt.plot(ns, acc_gb, color='yellow', label='Gradient Boosting')\n",
        "plt.legend() \n",
        "plt.title('Number of Training Samples vs. Accuracy') \n",
        "plt.xlabel('Training Samples') \n",
        "plt.ylabel('Accuracy') \n",
        "plt.show() "
      ],
      "metadata": {
        "colab": {
          "base_uri": "https://localhost:8080/",
          "height": 295
        },
        "id": "KkAqFbj5frcm",
        "outputId": "003f4392-b166-4c5b-c263-a8379938ad10"
      },
      "execution_count": null,
      "outputs": [
        {
          "output_type": "display_data",
          "data": {
            "text/plain": [
              "<Figure size 432x288 with 1 Axes>"
            ],
            "image/png": "[encoded data removed]"
          },
          "metadata": {
            "needs_background": "light"
          }
        }
      ]
    },
    {
      "cell_type": "code",
      "source": [
        "# load data\n",
        "dpath = '/content/gdrive/MyDrive' \n",
        "\n",
        "df = pd.read_csv(dpath+'/train_as.csv')\n",
        "# select text columns\n",
        "cat_cols = df.select_dtypes(include='object').columns\n",
        "\n",
        "# this is a way to apply label_encoder to all category cols at once, returning a label encoder per categorical column, in a dict d \n",
        "d = defaultdict(preprocessing.LabelEncoder)\n",
        "\n",
        " # transform all text columns to numbers\n",
        "df[cat_cols] = df[cat_cols].apply(lambda x: d[x.name].fit_transform(x.astype(str)))\n"
      ],
      "metadata": {
        "id": "R6FgPaR7E3z0"
      },
      "execution_count": null,
      "outputs": []
    },
    {
      "cell_type": "code",
      "source": [
        "data=df.to_numpy()\n",
        "data.shape"
      ],
      "metadata": {
        "colab": {
          "base_uri": "https://localhost:8080/"
        },
        "id": "tm9-WEPGHFys",
        "outputId": "9bc40fa6-6e76-4c56-d62d-0103c7d509be"
      },
      "execution_count": null,
      "outputs": [
        {
          "output_type": "execute_result",
          "data": {
            "text/plain": [
              "(188318, 132)"
            ]
          },
          "metadata": {},
          "execution_count": 37
        }
      ]
    },
    {
      "cell_type": "code",
      "source": [
        "def xgboost_allstate(n_train,data):\n",
        "  '''Fit XGBoost on a subset of the allstate dataset. \n",
        "  Arguments: \n",
        "    1. n_train (int) -> size of the training subset.\n",
        "  Returns: \n",
        "    1. train_time (float) -> time to fit gradient tree boosting. \n",
        "    2. mse (float) -> test mse on remaining data.'''\n",
        "\n",
        "  n_test=data.shape[0]-n_train\n",
        "  # load data \n",
        "  #Random sample 5000 values for testing\n",
        "  s=data.shape[0]\n",
        "  random.seed(42)\n",
        "  ind=random.sample(range(s), n_test)\n",
        "\n",
        "  x_test=data[ind,:]\n",
        "  x_train=np.delete(data,ind,0)\n",
        "\n",
        "  y_test=x_test[:,-1]\n",
        "  y_train=x_train[:,-1]\n",
        "  x_train=np.delete(x_train,0,1)\n",
        "  x_test=np.delete(x_test,0,1)\n",
        "  x_train=np.delete(x_train,-1,1)\n",
        "  x_test=np.delete(x_test,-1,1)\n",
        "\n",
        "  # fit model no training data\n",
        "  model = xgb.XGBRegressor(n_estimators=10,max_depth=6, verbose=2,tree_method='auto',effect_learner_objective='reg:squarederror')\n",
        "  eval_set = [(x_train, y_train), (x_test, y_test)]\n",
        "\n",
        "  start = time.time() \n",
        "  model.fit(x_train, y_train)#, eval_metric=[\"merror\", \"mlogloss\"], eval_set=eval_set, verbose=False)\n",
        "  train_time = time.time() - start \n",
        "\n",
        "  # make predictions for test data\n",
        "  y_pred = model.predict(x_test)\n",
        "  #pred = [round(value) for value in y_pred]\n",
        "\n",
        "  mse=mean_squared_error(y_pred,y_test)\n",
        "\n",
        "  # evaluate predictions\n",
        "  return train_time, mse"
      ],
      "metadata": {
        "id": "O4jF-KEvFJJc"
      },
      "execution_count": null,
      "outputs": []
    },
    {
      "cell_type": "code",
      "source": [
        "def adaboost_allstate(n_train,data):\n",
        "  '''Fit Adaboost on a subset of the allstate dataset. \n",
        "  Arguments: \n",
        "    1. n_train (int) -> size of the training subset.\n",
        "  Returns: \n",
        "    1. train_time (float) -> time to fit gradient tree boosting. \n",
        "    2. mse (float) -> test mse on remaining data.'''\n",
        "\n",
        "  n_test=data.shape[0]-n_train\n",
        "  #Random sample 5000 values for testing\n",
        "  s=data.shape[0]\n",
        "  random.seed(42)\n",
        "  ind=random.sample(range(s), n_test)\n",
        "\n",
        "  x_test=data[ind,:]\n",
        "  x_train=np.delete(data,ind,0)\n",
        "\n",
        "  y_test=x_test[:,-1]\n",
        "  y_train=x_train[:,-1]\n",
        "  x_train=np.delete(x_train,0,1)\n",
        "  x_test=np.delete(x_test,0,1)\n",
        "  x_train=np.delete(x_train,-1,1)\n",
        "  x_test=np.delete(x_test,-1,1)\n",
        "\n",
        "  # fit model no training data\n",
        "  tmp = time.time()\n",
        "  dtree=DecisionTreeRegressor()\n",
        "  model=AdaBoostRegressor(n_estimators=10,base_estimator=dtree)\n",
        "\n",
        "  start = time.time() \n",
        "  model.fit(x_train, y_train)#, eval_metric=[\"merror\", \"mlogloss\"], eval_set=eval_set, verbose=False)\n",
        "  train_time = time.time() - start \n",
        "\n",
        "  # make predictions for test data\n",
        "  y_pred = model.predict(x_test)\n",
        "  #pred = [round(value) for value in y_pred]\n",
        "\n",
        "  mse=mean_squared_error(y_pred,y_test)\n",
        "\n",
        "  # evaluate predictions\n",
        "\n",
        "  return train_time, mse"
      ],
      "metadata": {
        "id": "zEadjmvGLNv0"
      },
      "execution_count": null,
      "outputs": []
    },
    {
      "cell_type": "code",
      "source": [
        "def gradboost_allstate(n_train,data):\n",
        "  '''Fit Gradient Tree Boosting on a subset of the allstate dataset. \n",
        "  Arguments: \n",
        "    1. n_train (int) -> size of the training subset.\n",
        "  Returns: \n",
        "    1. train_time (float) -> time to fit gradient tree boosting. \n",
        "    2. mse (float) -> test mse on remaining data.'''\n",
        "\n",
        "  n_test=data.shape[0]-n_train\n",
        "  #Random sample 5000 values for testing\n",
        "  s=data.shape[0]\n",
        "  random.seed(42)\n",
        "  ind=random.sample(range(s), n_test)\n",
        "\n",
        "  x_test=data[ind,:]\n",
        "  x_train=np.delete(data,ind,0)\n",
        "\n",
        "  y_test=x_test[:,-1]\n",
        "  y_train=x_train[:,-1]\n",
        "  x_train=np.delete(x_train,0,1)\n",
        "  x_test=np.delete(x_test,0,1)\n",
        "  x_train=np.delete(x_train,-1,1)\n",
        "  x_test=np.delete(x_test,-1,1)\n",
        "\n",
        "  # fit model no training data\n",
        "  tmp = time.time()\n",
        "  model = GradientBoostingRegressor(n_estimators=10, max_depth=6, verbose=0) \n",
        "\n",
        "  start = time.time() \n",
        "  model.fit(x_train, y_train)#, eval_metric=[\"merror\", \"mlogloss\"], eval_set=eval_set, verbose=False)\n",
        "  train_time = time.time() - start \n",
        "\n",
        "  # make predictions for test data\n",
        "  y_pred = model.predict(x_test)\n",
        "  #pred = [round(value) for value in y_pred]\n",
        "\n",
        "  mse=mean_squared_error(y_pred,y_test)\n",
        "\n",
        "  # evaluate predictions\n",
        "\n",
        "  return train_time, mse"
      ],
      "metadata": {
        "id": "ORxHp2A8L2B8"
      },
      "execution_count": null,
      "outputs": []
    },
    {
      "cell_type": "code",
      "source": [
        "# varying training sizes \n",
        "ns = [10000, 50000, 100000, 150000] \n",
        "\n",
        "train_times = [] \n",
        "accuracies = [] \n",
        "\n",
        "# metrics for XGBoost\n",
        "for n in ns: \n",
        "  train_time, accuracy = xgboost_allstate(n,data)\n",
        "  train_times.append(train_time) \n",
        "  accuracies.append(accuracy) \n",
        "\n",
        "ctt_xgb = train_times \n",
        "mse_xgb = accuracies \n",
        "\n",
        "\n",
        "train_times = [] \n",
        "accuracies = [] \n",
        "error_rates = [] \n",
        "\n",
        "# metrics for adaboost \n",
        "for n in ns: \n",
        "  train_time, accuracy = adaboost_allstate(n,data)\n",
        "  train_times.append(train_time) \n",
        "  accuracies.append(accuracy) \n",
        "\n",
        "ctt_ada = train_times \n",
        "mse_ada = accuracies \n",
        "\n",
        "\n",
        "train_times = [] \n",
        "accuracies = [] \n",
        "error_rates = [] \n",
        "\n",
        "# metrics for gradient boosting\n",
        "for n in ns: \n",
        "  train_time, accuracy = gradboost_allstate(n,data)\n",
        "  train_times.append(train_time) \n",
        "  accuracies.append(accuracy)  \n",
        "\n",
        "ctt_gb = train_times \n",
        "mse_gb = accuracies "
      ],
      "metadata": {
        "colab": {
          "base_uri": "https://localhost:8080/"
        },
        "id": "_m48UIv9MZvj",
        "outputId": "0a8b9980-7ec7-411c-99a3-71e7aeea89b5"
      },
      "execution_count": null,
      "outputs": [
        {
          "output_type": "stream",
          "name": "stderr",
          "text": [
            "/usr/local/lib/python3.7/dist-packages/xgboost/core.py:613: UserWarning: Use subset (sliced data) of np.ndarray is not recommended because it will generate extra copies and increase memory consumption\n",
            "  warnings.warn(\"Use subset (sliced data) of np.ndarray is not recommended \" +\n"
          ]
        },
        {
          "output_type": "stream",
          "name": "stdout",
          "text": [
            "[01:46:49] WARNING: /workspace/src/objective/regression_obj.cu:152: reg:linear is now deprecated in favor of reg:squarederror.\n"
          ]
        },
        {
          "output_type": "stream",
          "name": "stderr",
          "text": [
            "/usr/local/lib/python3.7/dist-packages/xgboost/core.py:613: UserWarning: Use subset (sliced data) of np.ndarray is not recommended because it will generate extra copies and increase memory consumption\n",
            "  warnings.warn(\"Use subset (sliced data) of np.ndarray is not recommended \" +\n"
          ]
        },
        {
          "output_type": "stream",
          "name": "stdout",
          "text": [
            "[01:46:51] WARNING: /workspace/src/objective/regression_obj.cu:152: reg:linear is now deprecated in favor of reg:squarederror.\n"
          ]
        },
        {
          "output_type": "stream",
          "name": "stderr",
          "text": [
            "/usr/local/lib/python3.7/dist-packages/xgboost/core.py:613: UserWarning: Use subset (sliced data) of np.ndarray is not recommended because it will generate extra copies and increase memory consumption\n",
            "  warnings.warn(\"Use subset (sliced data) of np.ndarray is not recommended \" +\n"
          ]
        },
        {
          "output_type": "stream",
          "name": "stdout",
          "text": [
            "[01:46:55] WARNING: /workspace/src/objective/regression_obj.cu:152: reg:linear is now deprecated in favor of reg:squarederror.\n"
          ]
        },
        {
          "output_type": "stream",
          "name": "stderr",
          "text": [
            "/usr/local/lib/python3.7/dist-packages/xgboost/core.py:613: UserWarning: Use subset (sliced data) of np.ndarray is not recommended because it will generate extra copies and increase memory consumption\n",
            "  warnings.warn(\"Use subset (sliced data) of np.ndarray is not recommended \" +\n"
          ]
        },
        {
          "output_type": "stream",
          "name": "stdout",
          "text": [
            "[01:47:02] WARNING: /workspace/src/objective/regression_obj.cu:152: reg:linear is now deprecated in favor of reg:squarederror.\n"
          ]
        }
      ]
    },
    {
      "cell_type": "code",
      "source": [
        "# train size vs. train time \n",
        "plt.plot(ns, ctt_xgb, color='blue', label='XGBoost') \n",
        "plt.plot(ns, ctt_ada, color='red', label='AdaBoost') \n",
        "plt.plot(ns, ctt_gb, color='yellow', label='Gradient Boosting')\n",
        "plt.legend() \n",
        "plt.title('Number of Training Samples vs. Train Time') \n",
        "plt.xlabel('Training Samples') \n",
        "plt.ylabel('Train Time') \n",
        "plt.show() "
      ],
      "metadata": {
        "colab": {
          "base_uri": "https://localhost:8080/",
          "height": 295
        },
        "id": "b0uOvFQQOaIL",
        "outputId": "c2ea74d9-2133-4204-d51c-d656db6f57ea"
      },
      "execution_count": null,
      "outputs": [
        {
          "output_type": "display_data",
          "data": {
            "text/plain": [
              "<Figure size 432x288 with 1 Axes>"
            ],
            "image/png": "[encoded data removed]"
          },
          "metadata": {
            "needs_background": "light"
          }
        }
      ]
    },
    {
      "cell_type": "code",
      "source": [
        "# train size vs. mse \n",
        "plt.plot(ns, mse_xgb, color='blue', label='XGBoost') \n",
        "plt.plot(ns, mse_ada, color='red', label='AdaBoost') \n",
        "plt.plot(ns, mse_gb, color='yellow', label='Gradient Boosting')\n",
        "plt.legend() \n",
        "plt.title('Number of Training Samples vs. MSE') \n",
        "plt.xlabel('Training Samples') \n",
        "plt.ylabel('Mean Squared Error') \n",
        "plt.show() "
      ],
      "metadata": {
        "colab": {
          "base_uri": "https://localhost:8080/",
          "height": 295
        },
        "id": "NmZaGF7aObka",
        "outputId": "a90446b6-8ab8-41ff-99b6-389baeecbb7c"
      },
      "execution_count": null,
      "outputs": [
        {
          "output_type": "display_data",
          "data": {
            "text/plain": [
              "<Figure size 432x288 with 1 Axes>"
            ],
            "image/png": "[encoded data removed]"
          },
          "metadata": {
            "needs_background": "light"
          }
        }
      ]
    },
    {
      "cell_type": "code",
      "source": [
        "def xgboost_product1(n_train,par):\n",
        "  '''Fit XGBoost on a subset of the product dataset with column subsampling. \n",
        "  Arguments: \n",
        "    1. n_train (int) -> size of the training subset.\n",
        "  Returns: \n",
        "    1. train_time (float) -> time to fit gradient tree boosting. \n",
        "    2. accuracy (float) -> test accuracy on remaining data.'''\n",
        "    \n",
        "  # load data \n",
        "  dpath = '/content/gdrive/MyDrive' \n",
        "\n",
        "  data = np.loadtxt(dpath+'/otto-group-product-classification-challenge/train.csv', delimiter=',', skiprows=1, usecols=np.arange(94))\n",
        "\n",
        "  label_str = pd.read_csv(dpath+'/otto-group-product-classification-challenge/train.csv', usecols=['target'])['target'].to_list()\n",
        "  data=np.c_[data, label_str]\n",
        "  n_test=data.shape[0]-n_train\n",
        "  #Random sample 5000 values for testing\n",
        "  random.seed(42)\n",
        "  ind=random.sample(range(61878), n_test)\n",
        "\n",
        "  x_test=data[ind,:]\n",
        "  x_train=np.delete(data,ind,0)\n",
        "\n",
        "  y_test=x_test[:,-1]\n",
        "  y_train=x_train[:,-1]\n",
        "  x_train=np.delete(x_train,0,1)\n",
        "  x_test=np.delete(x_test,0,1)\n",
        "  x_train=np.delete(x_train,-1,1)\n",
        "  x_test=np.delete(x_test,-1,1)\n",
        "  y_train=[w.replace('Class_', '') for w in y_train]\n",
        "  y_train=[int(x) for x in y_train]\n",
        "  y_test=[w.replace('Class_', '') for w in y_test]\n",
        "  y_test=[int(x) for x in y_test]\n",
        "\n",
        "  if par==0:\n",
        "  # fit model no training data\n",
        "    model = XGBClassifier(max_depth=6,n_estimators=10, verbose=2)\n",
        "  \n",
        "  if par==1:\n",
        "  # fit model no training data\n",
        "    model = XGBClassifier(max_depth=6,n_estimators=10, verbose=2, colsample_bytree=.5)\n",
        "  \n",
        "  if par==2:\n",
        "  # fit model no training data\n",
        "    model = XGBClassifier(max_depth=6,n_estimators=10, verbose=2, colsample_bylevel=.5)\n",
        "  \n",
        "  if par==3:\n",
        "  # fit model no training data\n",
        "    model = XGBClassifier(max_depth=6,n_estimators=10, verbose=2, colsample_bynode=.5)\n",
        "  \n",
        "  \n",
        "\n",
        "  eval_set = [(x_train, y_train), (x_test, y_test)]\n",
        "\n",
        "  start = time.time() \n",
        "  model.fit(x_train, y_train)#, eval_metric=[\"merror\", \"mlogloss\"], eval_set=eval_set, verbose=False)\n",
        "  train_time = time.time() - start \n",
        "\n",
        "  # make predictions for test data\n",
        "  y_pred = model.predict(x_test)\n",
        "  pred = [round(value) for value in y_pred]\n",
        "\n",
        "  # evaluate predictions\n",
        "  accuracy = accuracy_score(y_test, pred)\n",
        "  error_rate=1-accuracy\n",
        "\n",
        "  return train_time, accuracy"
      ],
      "metadata": {
        "id": "A7g_Ra5_Zl7B"
      },
      "execution_count": null,
      "outputs": []
    },
    {
      "cell_type": "code",
      "source": [
        "# varying train sizes\n",
        "ns = [10000, 20000, 40000, 60000] \n",
        "train_times = [] \n",
        "accuracies = [] \n",
        "\n",
        "# XGBoost metrics with no column subsampling \n",
        "for n in ns: \n",
        "  train_time, accuracy = xgboost_product1(n,0)\n",
        "  train_times.append(train_time) \n",
        "  accuracies.append(accuracy) \n",
        "\n",
        "ctt_xgb0 = train_times \n",
        "acc_xgb0 = accuracies \n",
        "\n",
        "\n",
        "train_times = [] \n",
        "accuracies = [] \n",
        "\n",
        "# XGBoost metrics with column subsampling\n",
        "for n in ns: \n",
        "  train_time, accuracy = xgboost_product1(n,1)\n",
        "  train_times.append(train_time) \n",
        "  accuracies.append(accuracy) \n",
        "\n",
        "ctt_xgb1 = train_times \n",
        "acc_xgb1 = accuracies \n",
        "\n",
        "\n",
        "train_times = [] \n",
        "accuracies = [] \n",
        "\n",
        "# XGBoost metrics with column subsampling\n",
        "for n in ns: \n",
        "  train_time, accuracy = xgboost_product1(n,2)\n",
        "  train_times.append(train_time) \n",
        "  accuracies.append(accuracy) \n",
        "\n",
        "ctt_xgb2 = train_times \n",
        "acc_xgb2 = accuracies \n",
        "\n",
        "\n",
        "train_times = [] \n",
        "accuracies = [] \n",
        "\n",
        "# XGBoost metrics with column subsampling\n",
        "for n in ns: \n",
        "  train_time, accuracy = xgboost_product1(n,3)\n",
        "  train_times.append(train_time) \n",
        "  accuracies.append(accuracy) \n",
        "\n",
        "ctt_xgb3 = train_times \n",
        "acc_xgb3 = accuracies "
      ],
      "metadata": {
        "id": "Iw32nVwdqsoP"
      },
      "execution_count": null,
      "outputs": []
    },
    {
      "cell_type": "code",
      "source": [
        "# train size vs. train time \n",
        "plt.plot(ns, ctt_xgb0, color='blue', label='XGBoost') \n",
        "plt.plot(ns, ctt_xgb1, color='black', label='XGBoost, Tree col sampling=.5') \n",
        "plt.plot(ns, ctt_xgb2, color='red', label='XGBoost, Level col sampling=.5') \n",
        "plt.plot(ns, ctt_xgb3, color='green', label='XGBoost, Node col sampling=.5') \n",
        "plt.legend() \n",
        "plt.title('Number of Training Samples vs. Train Time') \n",
        "plt.xlabel('Training Samples') \n",
        "plt.ylabel('Train Time') \n",
        "plt.show() "
      ],
      "metadata": {
        "colab": {
          "base_uri": "https://localhost:8080/",
          "height": 295
        },
        "id": "nSko_1UZrIMR",
        "outputId": "9a2764f8-12fb-4058-ba8d-f3cc99b067fb"
      },
      "execution_count": null,
      "outputs": [
        {
          "output_type": "display_data",
          "data": {
            "text/plain": [
              "<Figure size 432x288 with 1 Axes>"
            ],
            "image/png": "[encoded data removed]"
          },
          "metadata": {
            "needs_background": "light"
          }
        }
      ]
    },
    {
      "cell_type": "code",
      "source": [
        "# train size vs. accuracy\n",
        "plt.plot(ns, acc_xgb0, color='blue', label='XGBoost') \n",
        "plt.plot(ns, acc_xgb1, color='black', label='XGBoost, Tree col sampling=.5') \n",
        "plt.plot(ns, acc_xgb2, color='red', label='XGBoost, Level col sampling=.5') \n",
        "plt.plot(ns, acc_xgb3, color='green', label='XGBoost, Node col sampling=.5') \n",
        "plt.legend() \n",
        "plt.title('Number of Training Samples vs. Accuracy') \n",
        "plt.xlabel('Training Samples') \n",
        "plt.ylabel('Accuracy') \n",
        "plt.show() "
      ],
      "metadata": {
        "colab": {
          "base_uri": "https://localhost:8080/",
          "height": 295
        },
        "id": "L7Wo0ojDrzbs",
        "outputId": "18713980-766f-4a8c-91fa-e0ebab7bd3c5"
      },
      "execution_count": null,
      "outputs": [
        {
          "output_type": "display_data",
          "data": {
            "text/plain": [
              "<Figure size 432x288 with 1 Axes>"
            ],
            "image/png": "[encoded data removed]"
          },
          "metadata": {
            "needs_background": "light"
          }
        }
      ]
    }
  ]
}